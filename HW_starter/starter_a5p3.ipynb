{
 "cells": [
  {
   "cell_type": "markdown",
   "metadata": {
    "id": "Fc-5ndTCUjcb"
   },
   "source": [
    "# Assignment 5, Problem 3\n",
    "\n",
    "This is the starter code for Assignment 5, Problem 3.\n",
    "\n",
    "In this assignment, you will solve increasingly challenging tasks from the [Minigrid benchmark](https://minigrid.farama.org/)."
   ]
  },
  {
   "cell_type": "code",
   "execution_count": null,
   "metadata": {
    "id": "x7W68dxl9O85"
   },
   "outputs": [],
   "source": [
    "!pip install torch\n",
    "!pip install gymnasium==0.29.1\n",
    "!pip install minigrid==2.3.1"
   ]
  },
  {
   "cell_type": "code",
   "execution_count": 2,
   "metadata": {
    "id": "lzOqvnaL9Tvj"
   },
   "outputs": [
    {
     "name": "stdout",
     "output_type": "stream",
     "text": [
      "pygame 2.6.1 (SDL 2.28.4, Python 3.9.20)\n",
      "Hello from the pygame community. https://www.pygame.org/contribute.html\n"
     ]
    }
   ],
   "source": [
    "import gymnasium as gym\n",
    "import minigrid\n",
    "import numpy as np\n",
    "\n",
    "np.set_printoptions(formatter={'float': lambda x: \"{0:0.2f}\".format(x)})"
   ]
  },
  {
   "cell_type": "code",
   "execution_count": 3,
   "metadata": {
    "id": "wuR1oC4cIUCs"
   },
   "outputs": [],
   "source": [
    "def compute_score(task, policy):\n",
    "  num_episodes = 10\n",
    "  cur_episode  = 0\n",
    "\n",
    "  seed_by_episode = [42, 34, 50, 1, 9, 7, 43, 56, 90, 11]\n",
    "  score_by_episode = np.zeros(num_episodes)\n",
    "\n",
    "  while cur_episode < num_episodes:\n",
    "\n",
    "    cumulative_reward = 0\n",
    "    cur_seed = seed_by_episode[cur_episode]\n",
    "\n",
    "    observation, info = task.reset(seed=cur_seed)\n",
    "    done = False\n",
    "\n",
    "    while not done:\n",
    "      action = policy(observation)\n",
    "      observation, reward, terminated, truncated, info = task.step(action)\n",
    "      cumulative_reward += reward\n",
    "\n",
    "      if terminated or truncated:\n",
    "        done = True\n",
    "        score_by_episode[cur_episode] = cumulative_reward\n",
    "        cur_episode += 1\n",
    "\n",
    "  score_mean = round(score_by_episode.mean(), 3)\n",
    "  score_std  = round(score_by_episode.std(), 3)\n",
    "  score_best = round(score_by_episode.max(), 3)\n",
    "\n",
    "  print(f\"Best score: {score_best}\")\n",
    "  print(f\"Average score: {score_mean, score_std}\")\n",
    "\n",
    "  return score_by_episode"
   ]
  },
  {
   "cell_type": "markdown",
   "metadata": {
    "id": "75UWdKFjRKuI"
   },
   "source": [
    "## Problem 3\n",
    "Solve the [Minigrid Blocked, Unlock and Pickup](https://minigrid.farama.org/environments/minigrid/UnlockEnv/) task.\n",
    "\n",
    "This problem is optional for COMP 442 students.\n",
    "This problem is mandatory for COMP 552 students.\n",
    "\n",
    "This problem is worth 05 points for COMP 552 students.\n",
    "\n",
    "![](https://minigrid.farama.org/_images/BlockedUnlockPickupEnv.gif)"
   ]
  },
  {
   "cell_type": "code",
   "execution_count": 4,
   "metadata": {
    "id": "ENe5lnAiRKeR"
   },
   "outputs": [],
   "source": [
    "third_task = gym.make(\"MiniGrid-BlockedUnlockPickup-v0\")"
   ]
  },
  {
   "cell_type": "code",
   "execution_count": 5,
   "metadata": {},
   "outputs": [
    {
     "name": "stdout",
     "output_type": "stream",
     "text": [
      "Observation keys: dict_keys(['image', 'direction', 'mission'])\n",
      "Image shape: (7, 7, 3)\n",
      "Direction: 2\n",
      "Mission: pick up the yellow box\n",
      "Action space: Discrete(7)\n"
     ]
    }
   ],
   "source": [
    "obs, _ = third_task.reset()\n",
    "print(\"Observation keys:\", obs.keys())\n",
    "print(\"Image shape:\", obs['image'].shape)\n",
    "print(\"Direction:\", obs[\"direction\"])\n",
    "print(\"Mission:\", obs[\"mission\"])\n",
    "print(\"Action space:\", third_task.action_space)"
   ]
  },
  {
   "cell_type": "code",
   "execution_count": 8,
   "metadata": {},
   "outputs": [
    {
     "data": {
      "text/plain": [
       "'pick up the yellow box'"
      ]
     },
     "execution_count": 8,
     "metadata": {},
     "output_type": "execute_result"
    }
   ],
   "source": [
    "obs[\"image\"].shape\n",
    "obs[\"mission\"]"
   ]
  },
  {
   "cell_type": "code",
   "execution_count": null,
   "metadata": {
    "id": "FXJA2lxeRvQI"
   },
   "outputs": [],
   "source": [
    "######## PUT YOUR CODE HERE ########\n",
    "# Train an agent to solve the task\n",
    "import torch\n",
    "import torch.nn as nn\n",
    "from stable_baselines3.common.torch_layers import BaseFeaturesExtractor\n",
    "\n",
    "class MinigridFeaturesExtractor(BaseFeaturesExtractor):\n",
    "    def __init__(self, observation_space: gym.Space, \n",
    "                 features_dim: int = 512,\n",
    "                 hidden_channel_size: int = [16,32,64], \n",
    "                 num_layers: int = 3,\n",
    "                 num_linear_layers = 2, \n",
    "                 linear_layer_size = 64) -> None:\n",
    "        super().__init__(observation_space, features_dim)\n",
    "\n",
    "        assert len(hidden_channel_size) == num_layers, \"hidden_channel_size should be a list of length num_layers\"\n",
    "\n",
    "        n_input_channels = observation_space.shape[0]\n",
    "        \n",
    "        # build CNN layers\n",
    "        layers = []\n",
    "        # input layer\n",
    "        layers.append(nn.Conv2d(n_input_channels, hidden_channel_size[0], kernel_size=3, stride=1, padding=1))\n",
    "        layers.append(nn.ReLU())\n",
    "\n",
    "        # hidden layers\n",
    "        for i in range(1, num_layers):\n",
    "            layers.append(nn.Conv2d(hidden_channel_size[i-1], hidden_channel_size[i], kernel_size=3, stride=1, padding=1))\n",
    "            layers.append(nn.ReLU())\n",
    "\n",
    "        # output layer\n",
    "        layers.append(nn.Flatten())\n",
    "\n",
    "        self.cnn = nn.Sequential(*layers)\n",
    "\n",
    "        # Compute shape by doing one forward pass\n",
    "        with torch.no_grad():\n",
    "            n_flatten = self.cnn(torch.as_tensor(observation_space.sample()[None]).float()).shape[1]\n",
    "\n",
    "        # self.linear = nn.Sequential(nn.Linear(n_flatten, features_dim), nn.ReLU())\n",
    "        linear_layers = []\n",
    "        # input linear layer\n",
    "        linear_layers.append(nn.Linear(n_flatten, linear_layer_size))\n",
    "        linear_layers.append(nn.ReLU())\n",
    "        # hidden linear layers\n",
    "        for i in range(1, num_linear_layers):\n",
    "            linear_layers.append(nn.Linear(linear_layer_size, linear_layer_size))\n",
    "            linear_layers.append(nn.ReLU())\n",
    "        # output linear layer\n",
    "        linear_layers.append(nn.Linear(linear_layer_size, features_dim))\n",
    "\n",
    "        self.linear = nn.Sequential(*linear_layers)\n",
    "\n",
    "    def forward(self, observations: torch.Tensor) -> torch.Tensor:\n",
    "        return self.linear(self.cnn(observations))\n",
    "######## PUT YOUR CODE HERE ########"
   ]
  },
  {
   "cell_type": "code",
   "execution_count": null,
   "metadata": {
    "id": "_fAy3slmRGDa"
   },
   "outputs": [],
   "source": [
    "def third_policy(observation):\n",
    "  ######## PUT YOUR CODE HERE ########\n",
    "\n",
    "  ######## PUT YOUR CODE HERE ########\n",
    "  return action"
   ]
  },
  {
   "cell_type": "code",
   "execution_count": null,
   "metadata": {
    "id": "ehJfJhlnRcx6"
   },
   "outputs": [],
   "source": [
    "compute_score(task=third_task, policy=third_policy)"
   ]
  }
 ],
 "metadata": {
  "accelerator": "GPU",
  "colab": {
   "provenance": []
  },
  "kernelspec": {
   "display_name": "comp552",
   "language": "python",
   "name": "python3"
  },
  "language_info": {
   "codemirror_mode": {
    "name": "ipython",
    "version": 3
   },
   "file_extension": ".py",
   "mimetype": "text/x-python",
   "name": "python",
   "nbconvert_exporter": "python",
   "pygments_lexer": "ipython3",
   "version": "3.9.20"
  }
 },
 "nbformat": 4,
 "nbformat_minor": 0
}
