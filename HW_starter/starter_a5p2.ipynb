{
 "cells": [
  {
   "cell_type": "markdown",
   "metadata": {
    "id": "Fc-5ndTCUjcb"
   },
   "source": [
    "# Assignment 5, Problem 2\n",
    "\n",
    "This is the starter code for Assignment 5, Problem 2.\n",
    "\n",
    "In this assignment, you will solve increasingly challenging tasks from the [Minigrid benchmark](https://minigrid.farama.org/)."
   ]
  },
  {
   "cell_type": "code",
   "execution_count": 1,
   "metadata": {
    "id": "x7W68dxl9O85"
   },
   "outputs": [],
   "source": [
    "# !pip install torch\n",
    "# !pip install gymnasium==0.29.1\n",
    "# !pip install minigrid==2.3.1"
   ]
  },
  {
   "cell_type": "code",
   "execution_count": null,
   "metadata": {
    "id": "lzOqvnaL9Tvj"
   },
   "outputs": [],
   "source": [
    "import gymnasium as gym\n",
    "import minigrid\n",
    "import numpy as np\n",
    "\n",
    "np.set_printoptions(formatter={'float': lambda x: \"{0:0.2f}\".format(x)})"
   ]
  },
  {
   "cell_type": "code",
   "execution_count": null,
   "metadata": {
    "id": "wuR1oC4cIUCs"
   },
   "outputs": [],
   "source": [
    "def compute_score(task, policy):\n",
    "  num_episodes = 10\n",
    "  cur_episode  = 0\n",
    "\n",
    "  seed_by_episode = [42, 34, 50, 1, 9, 7, 43, 56, 90, 11]\n",
    "  score_by_episode = np.zeros(num_episodes)\n",
    "\n",
    "  while cur_episode < num_episodes:\n",
    "\n",
    "    cumulative_reward = 0\n",
    "    cur_seed = seed_by_episode[cur_episode]\n",
    "\n",
    "    observation, info = task.reset(seed=cur_seed)\n",
    "    done = False\n",
    "\n",
    "    while not done:\n",
    "      action = policy(observation)\n",
    "      observation, reward, terminated, truncated, info = task.step(action)\n",
    "      cumulative_reward += reward\n",
    "\n",
    "      if terminated or truncated:\n",
    "        done = True\n",
    "        score_by_episode[cur_episode] = cumulative_reward\n",
    "        cur_episode += 1\n",
    "\n",
    "  score_mean = round(score_by_episode.mean(), 3)\n",
    "  score_std  = round(score_by_episode.std(), 3)\n",
    "  score_best = round(score_by_episode.max(), 3)\n",
    "\n",
    "  print(f\"Best score: {score_best}\")\n",
    "  print(f\"Average score: {score_mean, score_std}\")\n",
    "\n",
    "  return score_by_episode"
   ]
  },
  {
   "cell_type": "markdown",
   "metadata": {
    "id": "mMduj9WOQ6sa"
   },
   "source": [
    "## Problem 2\n",
    "Solve the [Minigrid Unlock and Pickup](https://minigrid.farama.org/environments/minigrid/UnlockEnv/) task.\n",
    "\n",
    "This problem is worth 10 points for COMP 442 students.\n",
    "This problem is worth 05 points for COMP 552 students.\n",
    "\n",
    "![](https://minigrid.farama.org/_images/UnlockPickupEnv.gif)"
   ]
  },
  {
   "cell_type": "code",
   "execution_count": null,
   "metadata": {
    "id": "CsSmtYonI_SQ"
   },
   "outputs": [],
   "source": [
    "second_task = gym.make(\"MiniGrid-UnlockPickup-v0\")"
   ]
  },
  {
   "cell_type": "code",
   "execution_count": null,
   "metadata": {
    "id": "2JJeQFWxQ2pS"
   },
   "outputs": [],
   "source": [
    "######## PUT YOUR CODE HERE ########\n",
    "# Train an agent to solve the task\n",
    "\n",
    "######## PUT YOUR CODE HERE ########"
   ]
  },
  {
   "cell_type": "code",
   "execution_count": null,
   "metadata": {
    "id": "Avl9WIB0Rq1B"
   },
   "outputs": [],
   "source": [
    "def second_policy(observation):\n",
    "  ######## PUT YOUR CODE HERE ########\n",
    "\n",
    "  ######## PUT YOUR CODE HERE ########\n",
    "  return action"
   ]
  },
  {
   "cell_type": "code",
   "execution_count": null,
   "metadata": {
    "id": "iEn_LFsSRDGs"
   },
   "outputs": [],
   "source": [
    "compute_score(task=second_task, policy=second_policy)"
   ]
  }
 ],
 "metadata": {
  "accelerator": "GPU",
  "colab": {
   "provenance": []
  },
  "kernelspec": {
   "display_name": ".venv",
   "language": "python",
   "name": "python3"
  },
  "language_info": {
   "codemirror_mode": {
    "name": "ipython",
    "version": 3
   },
   "file_extension": ".py",
   "mimetype": "text/x-python",
   "name": "python",
   "nbconvert_exporter": "python",
   "pygments_lexer": "ipython3",
   "version": "3.9.6"
  }
 },
 "nbformat": 4,
 "nbformat_minor": 0
}
